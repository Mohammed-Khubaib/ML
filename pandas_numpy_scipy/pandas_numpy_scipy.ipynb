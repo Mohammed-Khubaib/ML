{
  "cells": [
    {
      "cell_type": "code",
      "execution_count": 1,
      "metadata": {
        "id": "M2-uKf98Owu-"
      },
      "outputs": [],
      "source": [
        "# python programs involving pandas,numpy and scipy :\n",
        "import pandas as pd\n",
        "import numpy as np\n",
        "from scipy import stats"
      ]
    },
    {
      "cell_type": "code",
      "execution_count": null,
      "metadata": {
        "id": "ga7uwqBgPJ9h"
      },
      "outputs": [],
      "source": [
        "#program 1 :\n",
        "df = pd.read_csv('data.csv')\n",
        "mean = np.mean(df.Values)\n",
        "std_dev = np.std(df.Values)\n",
        "mode = stats.mode(df.Values)\n",
        "median = np.median(df.Values)\n",
        "print(f\" mean = {mean} \\n median = {median} \\n mode = {mode} \\n standard deviation = {std_dev} \")"
      ]
    },
    {
      "cell_type": "code",
      "execution_count": 3,
      "metadata": {
        "id": "NBQbXUYbQsgE"
      },
      "outputs": [],
      "source": [
        "# program 2 :\n",
        "df1 = pd.read_csv('dataset1.csv')\n",
        "df2 = pd.read_csv('dataset2.csv')\n",
        "s1 = df1['value'].values\n",
        "s2 = df2['value'].values\n",
        "m1 = np.mean(s1)\n",
        "m2 = np.mean(s2)\n",
        "t_static,p_value = stats.ttest_ind(s1,s2)"
      ]
    },
    {
      "cell_type": "code",
      "execution_count": null,
      "metadata": {
        "id": "8oh5j7jtS221"
      },
      "outputs": [],
      "source": [
        "print(\"Sample 1 mean = \",m1)\n",
        "print(\"Sample 2 mean = \",m2)\n",
        "print(\"calculated t value = \",t_static)\n",
        "print(\"p value = \",p_value)"
      ]
    }
  ],
  "metadata": {
    "colab": {
      "authorship_tag": "ABX9TyP6X65rzJb8wP+3yEqBttjY",
      "include_colab_link": true,
      "provenance": []
    },
    "kernelspec": {
      "display_name": "Python 3",
      "name": "python3"
    },
    "language_info": {
      "name": "python"
    }
  },
  "nbformat": 4,
  "nbformat_minor": 0
}
