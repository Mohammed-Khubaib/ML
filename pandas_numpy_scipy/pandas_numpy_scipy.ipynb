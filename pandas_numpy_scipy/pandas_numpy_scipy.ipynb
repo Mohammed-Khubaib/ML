{
  "cells": [
    {
      "cell_type": "code",
      "execution_count": 1,
      "metadata": {
        "id": "M2-uKf98Owu-"
      },
      "outputs": [],
      "source": [
        "# python programs involving pandas,numpy and scipy :\n",
        "import pandas as pd\n",
        "import numpy as np\n",
        "from scipy import stats"
      ]
    },
    {
      "cell_type": "code",
      "execution_count": 2,
      "metadata": {
        "id": "ga7uwqBgPJ9h"
      },
      "outputs": [
        {
          "name": "stdout",
          "output_type": "stream",
          "text": [
            " mean = 50.2942 \n",
            " median = 50.0 \n",
            " mode = ModeResult(mode=array([17]), count=array([126])) \n",
            " standard deviation = 28.8659911723121 \n"
          ]
        },
        {
          "name": "stderr",
          "output_type": "stream",
          "text": [
            "/var/folders/xd/wfcj10713rxc4npm75pmzpm80000gn/T/ipykernel_59626/755895540.py:5: FutureWarning: Unlike other reduction functions (e.g. `skew`, `kurtosis`), the default behavior of `mode` typically preserves the axis it acts along. In SciPy 1.11.0, this behavior will change: the default value of `keepdims` will become False, the `axis` over which the statistic is taken will be eliminated, and the value None will no longer be accepted. Set `keepdims` to True or False to avoid this warning.\n",
            "  mode = stats.mode(df.Values)\n"
          ]
        }
      ],
      "source": [
        "#program 1 :\n",
        "df = pd.read_csv('data.csv')\n",
        "mean = np.mean(df.Values)\n",
        "median = np.median(df.Values)\n",
        "mode = stats.mode(df.Values)\n",
        "std_dev = np.std(df.Values)\n",
        "print(f\" mean = {mean} \\n median = {median} \\n mode = {mode} \\n standard deviation = {std_dev} \")"
      ]
    },
    {
      "cell_type": "code",
      "execution_count": 3,
      "metadata": {
        "id": "NBQbXUYbQsgE"
      },
      "outputs": [],
      "source": [
        "# program 2 :\n",
        "df1 = pd.read_csv('dataset1.csv')\n",
        "df2 = pd.read_csv('dataset2.csv')\n",
        "s1 = df1['value'].values\n",
        "s2 = df2['value'].values\n",
        "m1 = np.mean(s1)\n",
        "m2 = np.mean(s2)\n",
        "t_value,p_value = stats.ttest_ind(s1,s2)"
      ]
    },
    {
      "cell_type": "code",
      "execution_count": 4,
      "metadata": {
        "id": "8oh5j7jtS221"
      },
      "outputs": [
        {
          "name": "stdout",
          "output_type": "stream",
          "text": [
            "Sample 1 mean =  2.88\n",
            "Sample 2 mean =  4.08\n",
            "calculated t value =  -2.7839305139615464\n",
            "p value =  0.023779910739163405\n"
          ]
        }
      ],
      "source": [
        "print(\"Sample 1 mean = \",m1)\n",
        "print(\"Sample 2 mean = \",m2)\n",
        "print(\"calculated t value = \",t_value)\n",
        "print(\"p value = \",p_value)"
      ]
    }
  ],
  "metadata": {
    "colab": {
      "authorship_tag": "ABX9TyP6X65rzJb8wP+3yEqBttjY",
      "include_colab_link": true,
      "provenance": []
    },
    "kernelspec": {
      "display_name": "Python 3",
      "name": "python3"
    },
    "language_info": {
      "codemirror_mode": {
        "name": "ipython",
        "version": 3
      },
      "file_extension": ".py",
      "mimetype": "text/x-python",
      "name": "python",
      "nbconvert_exporter": "python",
      "pygments_lexer": "ipython3",
      "version": "3.10.6"
    }
  },
  "nbformat": 4,
  "nbformat_minor": 0
}
