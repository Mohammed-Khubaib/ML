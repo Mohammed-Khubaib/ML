{
  "cells": [
    {
      "cell_type": "code",
      "execution_count": null,
      "metadata": {
        "id": "rVt082RvdwfI"
      },
      "outputs": [],
      "source": [
        "import numpy as np\n",
        "from sklearn.linear_model import LinearRegression\n",
        "\n",
        "# Sample data for training the model\n",
        "# Assume we have one feature (X) and a target variable (y)\n",
        "X_train = np.array([[1], [2], [3], [4], [6],[8]])\n",
        "y_train = np.array([2.4, 3, 3.6, 4, 5, 6])\n",
        "\n",
        "# Create and train the Linear Regression model\n",
        "model = LinearRegression()\n",
        "model.fit(X_train, y_train)"
      ]
    },
    {
      "cell_type": "code",
      "execution_count": 12,
      "metadata": {
        "colab": {
          "base_uri": "https://localhost:8080/"
        },
        "id": "oX8KIroHd44Y",
        "outputId": "e6d22276-dbe9-4964-b0e9-c6f313273b8b"
      },
      "outputs": [
        {
          "name": "stdout",
          "output_type": "stream",
          "text": [
            "Intercept: 1.9764705882352933\n",
            "Coefficient: [0.50588235]\n"
          ]
        }
      ],
      "source": [
        "# Print the intercept and coefficient of the Linear Regression model\n",
        "print(\"Intercept:\", model.intercept_)\n",
        "print(\"Coefficient:\", model.coef_)"
      ]
    },
    {
      "cell_type": "code",
      "execution_count": 13,
      "metadata": {
        "colab": {
          "base_uri": "https://localhost:8080/"
        },
        "id": "TOIZUH5BmzuL",
        "outputId": "612b4934-f316-4efc-a85b-76894d9a102e"
      },
      "outputs": [
        {
          "name": "stdout",
          "output_type": "stream",
          "text": [
            "Predicted Value: 5.011764705882353\n"
          ]
        }
      ],
      "source": [
        "# Sample new instance for prediction\n",
        "new_instance = np.array([[6]])\n",
        "\n",
        "# Use the model to predict the target value for the new instance\n",
        "predicted_value = model.predict(new_instance)\n",
        "\n",
        "# The output will be the predicted target value for the new instance\n",
        "print(\"Predicted Value:\", predicted_value[0])"
      ]
    },
    {
      "cell_type": "code",
      "execution_count": 14,
      "metadata": {
        "colab": {
          "base_uri": "https://localhost:8080/"
        },
        "id": "NUHz3QbelG66",
        "outputId": "0e793422-d294-4436-ecb9-d86c15297482"
      },
      "outputs": [
        {
          "data": {
            "text/plain": [
              "array([5.01176471])"
            ]
          },
          "execution_count": 14,
          "metadata": {},
          "output_type": "execute_result"
        }
      ],
      "source": [
        "y = model.intercept_+(model.coef_*6)\n",
        "y"
      ]
    }
  ],
  "metadata": {
    "colab": {
      "authorship_tag": "ABX9TyPzsUtA04BUi99ECwgGFris",
      "include_colab_link": true,
      "provenance": []
    },
    "kernelspec": {
      "display_name": "Python 3",
      "name": "python3"
    },
    "language_info": {
      "name": "python"
    }
  },
  "nbformat": 4,
  "nbformat_minor": 0
}
