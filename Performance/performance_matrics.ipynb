{
  "nbformat": 4,
  "nbformat_minor": 0,
  "metadata": {
    "colab": {
      "provenance": [],
      "authorship_tag": "ABX9TyMyZW6BnCBkA44scb6X8hoF"
    },
    "kernelspec": {
      "name": "python3",
      "display_name": "Python 3"
    },
    "language_info": {
      "name": "python"
    }
  },
  "cells": [
    {
      "cell_type": "code",
      "execution_count": 1,
      "metadata": {
        "id": "zPJ6QTGHUpGw"
      },
      "outputs": [],
      "source": [
        "import numpy as np\n",
        "import pandas as pd\n",
        "from sklearn.model_selection import train_test_split\n",
        "from sklearn.preprocessing import StandardScaler\n",
        "from sklearn.linear_model import LogisticRegression\n",
        "from sklearn.naive_bayes import GaussianNB\n",
        "from sklearn.metrics import accuracy_score,confusion_matrix,precision_score,recall_score\n",
        "import matplotlib.pyplot as plt\n",
        "import seaborn as sns"
      ]
    },
    {
      "cell_type": "code",
      "source": [
        "dataset = pd.read_csv(\"Logistic_Iris.csv\")"
      ],
      "metadata": {
        "id": "dkglEse6U-0B"
      },
      "execution_count": 2,
      "outputs": []
    },
    {
      "cell_type": "code",
      "source": [
        "x = dataset.iloc[:, [0,1,2,3]].values"
      ],
      "metadata": {
        "id": "ascVIuCXVLRn"
      },
      "execution_count": 3,
      "outputs": []
    },
    {
      "cell_type": "code",
      "source": [
        "y = dataset.iloc[:, 4].values"
      ],
      "metadata": {
        "id": "iJN8pzxIVWPS"
      },
      "execution_count": 4,
      "outputs": []
    },
    {
      "cell_type": "code",
      "source": [
        "xtrain, xtest, ytrain, ytest = train_test_split(x, y, test_size=0.25, random_state=0)"
      ],
      "metadata": {
        "id": "isjOMVhhVXd7"
      },
      "execution_count": 5,
      "outputs": []
    },
    {
      "cell_type": "code",
      "source": [
        "sc = StandardScaler()\n",
        "xtrain = sc.fit_transform(xtrain)\n",
        "xtest = sc.transform(xtest)"
      ],
      "metadata": {
        "id": "NwhKAeabVZTz"
      },
      "execution_count": 6,
      "outputs": []
    },
    {
      "cell_type": "code",
      "source": [
        "models = []\n",
        "acc_all = []\n",
        "pres =[]\n",
        "tpr=[]\n",
        "fpr=[]"
      ],
      "metadata": {
        "id": "aeuJ-EhqVav-"
      },
      "execution_count": 7,
      "outputs": []
    },
    {
      "cell_type": "markdown",
      "source": [
        "# Logistic Regression"
      ],
      "metadata": {
        "id": "0AWy_aFbYaKZ"
      }
    },
    {
      "cell_type": "code",
      "source": [
        "classifier = LogisticRegression(random_state = 0)\n",
        "classifier.fit(xtrain, ytrain)"
      ],
      "metadata": {
        "id": "k-bQp33LVhe-"
      },
      "execution_count": null,
      "outputs": []
    },
    {
      "cell_type": "code",
      "source": [
        "y_pred = classifier.predict(xtest)"
      ],
      "metadata": {
        "id": "3jfOhDXjViNI"
      },
      "execution_count": 9,
      "outputs": []
    },
    {
      "cell_type": "code",
      "source": [
        "acc= accuracy_score(ytest,y_pred)*100\n",
        "print(\"Accuracy = \",acc)"
      ],
      "metadata": {
        "colab": {
          "base_uri": "https://localhost:8080/"
        },
        "id": "W6N5zgElVkm_",
        "outputId": "b4c4aae9-2120-4ac1-f4cf-655ede07b19d"
      },
      "execution_count": 10,
      "outputs": [
        {
          "output_type": "stream",
          "name": "stdout",
          "text": [
            "Accuracy =  97.36842105263158\n"
          ]
        }
      ]
    },
    {
      "cell_type": "code",
      "source": [
        "cm = confusion_matrix(ytest, y_pred)\n",
        "cm"
      ],
      "metadata": {
        "colab": {
          "base_uri": "https://localhost:8080/"
        },
        "id": "srqYJY6KVm_D",
        "outputId": "7044812e-7e7b-46b5-81d3-73d0ab0edf4e"
      },
      "execution_count": 11,
      "outputs": [
        {
          "output_type": "execute_result",
          "data": {
            "text/plain": [
              "array([[13,  0,  0],\n",
              "       [ 0, 15,  1],\n",
              "       [ 0,  0,  9]])"
            ]
          },
          "metadata": {},
          "execution_count": 11
        }
      ]
    },
    {
      "cell_type": "code",
      "source": [
        "tp = sum(np.diagonal(cm))\n",
        "fp = cm[1,0] + cm[2,0]\n",
        "fn = cm[0,1] + cm[0,2]\n",
        "tn = cm.sum()-(tp + fp + fn)"
      ],
      "metadata": {
        "id": "Q4tKASv2VwZm"
      },
      "execution_count": 12,
      "outputs": []
    },
    {
      "cell_type": "code",
      "source": [
        "# Precision = (TP / (TP+FP)\n",
        "pres1=tp / (tp + fp)"
      ],
      "metadata": {
        "id": "UMoxpAd_V6mP"
      },
      "execution_count": 13,
      "outputs": []
    },
    {
      "cell_type": "code",
      "source": [
        "# Sensitivity, Recall, True Positive Rate = TP/P or TP / (TP+FN)\n",
        "tpr1 = tp / (tp + fn)\n",
        "fpr1 = fp / (fp + tn)"
      ],
      "metadata": {
        "id": "8eDYDrD5WPIN"
      },
      "execution_count": 14,
      "outputs": []
    },
    {
      "cell_type": "code",
      "source": [
        "models.append(classifier)\n",
        "acc_all.append(acc)\n",
        "pres.append(pres1)\n",
        "tpr.append(tpr1)\n",
        "fpr.append(fpr1)"
      ],
      "metadata": {
        "id": "THXhuIvRWmlV"
      },
      "execution_count": 15,
      "outputs": []
    },
    {
      "cell_type": "markdown",
      "source": [
        "# For Naïve Bayes Classification"
      ],
      "metadata": {
        "id": "MEB_6-59Wzou"
      }
    },
    {
      "cell_type": "code",
      "source": [
        "classifier = GaussianNB()\n",
        "classifier.fit(xtrain, ytrain)"
      ],
      "metadata": {
        "id": "cIhFEp-SWv2b"
      },
      "execution_count": null,
      "outputs": []
    },
    {
      "cell_type": "code",
      "source": [
        "y_pred = classifier.predict(xtest)"
      ],
      "metadata": {
        "id": "7lE532TxW2hA"
      },
      "execution_count": 17,
      "outputs": []
    },
    {
      "cell_type": "code",
      "source": [
        "acc= accuracy_score(ytest,y_pred)*100"
      ],
      "metadata": {
        "id": "c_s25X7bW48q"
      },
      "execution_count": 18,
      "outputs": []
    },
    {
      "cell_type": "code",
      "source": [
        "print(\"Accuracy = \",acc)"
      ],
      "metadata": {
        "colab": {
          "base_uri": "https://localhost:8080/"
        },
        "id": "r4z9ptRmW8Tr",
        "outputId": "ee0c72fb-d293-4943-9873-bd11d8a8695c"
      },
      "execution_count": 19,
      "outputs": [
        {
          "output_type": "stream",
          "name": "stdout",
          "text": [
            "Accuracy =  100.0\n"
          ]
        }
      ]
    },
    {
      "cell_type": "code",
      "source": [
        "cm = confusion_matrix(ytest, y_pred)"
      ],
      "metadata": {
        "id": "zskJDhvyW94D"
      },
      "execution_count": 20,
      "outputs": []
    },
    {
      "cell_type": "code",
      "source": [],
      "metadata": {
        "id": "fuYkfeXGZScN"
      },
      "execution_count": 20,
      "outputs": []
    },
    {
      "cell_type": "code",
      "source": [
        "tp = sum(np.diagonal(cm))\n",
        "fp = cm[1,0] + cm[2,0]\n",
        "fn = cm[0,1] + cm[0,2]\n",
        "tn = cm.sum()-(tp + fp + fn)"
      ],
      "metadata": {
        "id": "xXYHGjqBW_pU"
      },
      "execution_count": 21,
      "outputs": []
    },
    {
      "cell_type": "code",
      "source": [
        "# Precision = (TP / (TP/FP)\n",
        "pres1=tp / (tp + fp)"
      ],
      "metadata": {
        "id": "QppJRooSXEpr"
      },
      "execution_count": 22,
      "outputs": []
    },
    {
      "cell_type": "code",
      "source": [
        "# Sensitivity, Recall, True Positive Rate = TP/P or TP / (TP+FN)\n",
        "if (fp + tn) == 0:\n",
        "    fpr1 = 0  # or any other suitable value\n",
        "else:\n",
        "  fpr1 = fp / (fp + tn)\n",
        "tpr1 = tp / (tp + fn)"
      ],
      "metadata": {
        "id": "KpHsL93-XJVq"
      },
      "execution_count": 23,
      "outputs": []
    },
    {
      "cell_type": "code",
      "source": [
        "models.append(classifier)\n",
        "acc_all.append(acc)\n",
        "pres.append(pres1)\n",
        "tpr.append(tpr1)\n",
        "fpr.append(fpr1)"
      ],
      "metadata": {
        "id": "vt4dhQrPXKuU"
      },
      "execution_count": 24,
      "outputs": []
    },
    {
      "cell_type": "markdown",
      "source": [
        "#Comparison of Classifiers"
      ],
      "metadata": {
        "id": "XD6gUotkYCmW"
      }
    },
    {
      "cell_type": "code",
      "source": [
        "print(\"Classifiers used : \\n\",models)"
      ],
      "metadata": {
        "colab": {
          "base_uri": "https://localhost:8080/"
        },
        "id": "pOC5CC7DXkft",
        "outputId": "cc36eb9d-0067-4f9f-cc75-5cbb4e42b63d"
      },
      "execution_count": 25,
      "outputs": [
        {
          "output_type": "stream",
          "name": "stdout",
          "text": [
            "Classifiers used : \n",
            " [LogisticRegression(random_state=0), GaussianNB()]\n"
          ]
        }
      ]
    },
    {
      "cell_type": "code",
      "source": [
        "plt.subplots(figsize=(3,3))\n",
        "labels=['LoR', 'NB']\n",
        "sns.barplot(x=labels,y=acc_all,palette='hot',edgecolor=sns.color_palette('dark',7))\n",
        "plt.xticks(rotation=90)\n",
        "plt.title('Classifier Comparison based on Accuracy')\n",
        "plt.show()"
      ],
      "metadata": {
        "colab": {
          "base_uri": "https://localhost:8080/",
          "height": 325
        },
        "id": "0tJpBvbsYGJz",
        "outputId": "4f254e23-677d-4f6c-ab5e-b871db2b0ec5"
      },
      "execution_count": 26,
      "outputs": [
        {
          "output_type": "display_data",
          "data": {
            "text/plain": [
              "<Figure size 300x300 with 1 Axes>"
            ],
            "image/png": "[encoded data removed]"
          },
          "metadata": {}
        }
      ]
    },
    {
      "cell_type": "code",
      "source": [
        "plt.subplots(figsize=(3,3))\n",
        "labels=['LoR', 'NB']\n",
        "sns.barplot(x=labels,y=pres,palette='hot',edgecolor=sns.color_palette('dark',7))\n",
        "plt.xticks(rotation=90)\n",
        "plt.title('Classifier Comparison based on Precision')\n",
        "plt.show()"
      ],
      "metadata": {
        "colab": {
          "base_uri": "https://localhost:8080/",
          "height": 325
        },
        "id": "e1lsnBNJYWhn",
        "outputId": "52b71f75-a3d7-4aeb-d234-a5ffd2d9ef50"
      },
      "execution_count": 27,
      "outputs": [
        {
          "output_type": "display_data",
          "data": {
            "text/plain": [
              "<Figure size 300x300 with 1 Axes>"
            ],
            "image/png": "[encoded data removed]"
          },
          "metadata": {}
        }
      ]
    },
    {
      "cell_type": "code",
      "source": [
        "plt.subplots(figsize=(3,3))\n",
        "labels=['LoR', 'NB']\n",
        "sns.barplot(x=labels,y=tpr,palette='hot',edgecolor=sns.color_palette('dark',7))\n",
        "plt.xticks(rotation=90)\n",
        "plt.title('Classifier Comparison based on True Possitive Rate')\n",
        "plt.show()"
      ],
      "metadata": {
        "colab": {
          "base_uri": "https://localhost:8080/",
          "height": 325
        },
        "id": "HzsTLQiXYoYQ",
        "outputId": "ab31d5d7-26dc-4e0f-956b-89ba73183989"
      },
      "execution_count": 28,
      "outputs": [
        {
          "output_type": "display_data",
          "data": {
            "text/plain": [
              "<Figure size 300x300 with 1 Axes>"
            ],
            "image/png": "[encoded data removed]"
          },
          "metadata": {}
        }
      ]
    },
    {
      "cell_type": "code",
      "source": [
        "plt.subplots(figsize=(3,3))\n",
        "labels=['LoR', 'NB']\n",
        "sns.barplot(x=labels,y=fpr,palette='hot',edgecolor=sns.color_palette('dark',7))\n",
        "plt.xticks(rotation=90)\n",
        "plt.title('Classifier Comparison based on False Possitive Rate')\n",
        "plt.show()"
      ],
      "metadata": {
        "colab": {
          "base_uri": "https://localhost:8080/",
          "height": 325
        },
        "id": "sNZPICHZYzGj",
        "outputId": "a9f57675-b919-4b30-e165-9404c46d1697"
      },
      "execution_count": 29,
      "outputs": [
        {
          "output_type": "display_data",
          "data": {
            "text/plain": [
              "<Figure size 300x300 with 1 Axes>"
            ],
            "image/png": "[encoded data removed]"
          },
          "metadata": {}
        }
      ]
    }
  ]
}