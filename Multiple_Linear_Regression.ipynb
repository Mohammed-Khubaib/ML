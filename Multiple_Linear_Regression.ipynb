{
  "cells": [
    {
      "cell_type": "code",
      "execution_count": null,
      "metadata": {
        "id": "XSQI9d6WoXBB"
      },
      "outputs": [],
      "source": [
        "import numpy as np\n",
        "from sklearn.linear_model import LinearRegression\n",
        "\n",
        "# Sample data for training the model\n",
        "# Assume we have two features (X1 and X2) and a target variable (y)\n",
        "X_train = np.array([[1, 4],\n",
        "                    [2, 5],\n",
        "                    [3, 8],\n",
        "                    [4, 2]])\n",
        "\n",
        "y_train = np.array([1, 6, 8, 12])\n",
        "\n",
        "# Create and train the Linear Regression model\n",
        "model = LinearRegression()\n",
        "model.fit(X_train, y_train)"
      ]
    },
    {
      "cell_type": "code",
      "execution_count": 4,
      "metadata": {
        "colab": {
          "base_uri": "https://localhost:8080/"
        },
        "id": "iFYDdja_opvK",
        "outputId": "28f3222a-745c-434a-f4b4-2086e7f6addc"
      },
      "outputs": [
        {
          "name": "stdout",
          "output_type": "stream",
          "text": [
            "Intercept: -1.699453551912569\n",
            "Coefficient: [ 3.48360656 -0.05464481]\n"
          ]
        }
      ],
      "source": [
        "# Print the intercept and coefficient of the Multiple Linear Regression model\n",
        "print(\"Intercept:\", model.intercept_)\n",
        "print(\"Coefficient:\", model.coef_)"
      ]
    },
    {
      "cell_type": "code",
      "execution_count": 6,
      "metadata": {
        "colab": {
          "base_uri": "https://localhost:8080/"
        },
        "id": "DDIGb4NIo9K2",
        "outputId": "33ff7692-b4d4-4220-e783-b69e871cf0a1"
      },
      "outputs": [
        {
          "name": "stdout",
          "output_type": "stream",
          "text": [
            "Predicted Value: 22.35792349726776\n"
          ]
        }
      ],
      "source": [
        "# Sample new instance for regression prediction\n",
        "new_instance = np.array([[7, 6]])\n",
        "\n",
        "# Use the model to predict the target value for the new instance\n",
        "predicted_value = model.predict(new_instance)\n",
        "\n",
        "# The output will be the predicted target value for the new instance\n",
        "print(\"Predicted Value:\", predicted_value[0])"
      ]
    }
  ],
  "metadata": {
    "colab": {
      "authorship_tag": "ABX9TyOCZ1gLSStU65S5Wxfl724V",
      "include_colab_link": false,
      "provenance": []
    },
    "kernelspec": {
      "display_name": "Python 3",
      "name": "python3"
    },
    "language_info": {
      "name": "python"
    }
  },
  "nbformat": 4,
  "nbformat_minor": 0
}
