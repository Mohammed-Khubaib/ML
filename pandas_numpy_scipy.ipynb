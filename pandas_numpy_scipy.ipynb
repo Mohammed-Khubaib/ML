{
  "nbformat": 4,
  "nbformat_minor": 0,
  "metadata": {
    "colab": {
      "provenance": [],
      "authorship_tag": "ABX9TyP6X65rzJb8wP+3yEqBttjY",
      "include_colab_link": true
    },
    "kernelspec": {
      "name": "python3",
      "display_name": "Python 3"
    },
    "language_info": {
      "name": "python"
    }
  },
  "cells": [
    {
      "cell_type": "markdown",
      "metadata": {
        "id": "view-in-github",
        "colab_type": "text"
      },
      "source": [
        "<a href=\"https://colab.research.google.com/github/Mohammed-Khubaib/ML/blob/main/pandas_numpy_scipy.ipynb\" target=\"_parent\"><img src=\"https://colab.research.google.com/assets/colab-badge.svg\" alt=\"Open In Colab\"/></a>"
      ]
    },
    {
      "cell_type": "code",
      "execution_count": 1,
      "metadata": {
        "id": "M2-uKf98Owu-"
      },
      "outputs": [],
      "source": [
        "# python programs involving pandas,numpy and scipy :\n",
        "import pandas as pd\n",
        "import numpy as np\n",
        "from scipy import stats"
      ]
    },
    {
      "cell_type": "code",
      "source": [
        "#program 1 :\n",
        "df = pd.read_csv('data.csv')\n",
        "mean = np.mean(df.Values)\n",
        "std_dev = np.std(df.Values)\n",
        "mode = stats.mode(df.Values)\n",
        "median = np.median(df.Values)\n",
        "print(f\" mean = {mean} \\n median = {median} \\n mode = {mode} \\n standard deviation = {std_dev} \")"
      ],
      "metadata": {
        "id": "ga7uwqBgPJ9h"
      },
      "execution_count": null,
      "outputs": []
    },
    {
      "cell_type": "code",
      "source": [
        "# program 2 :\n",
        "df1 = pd.read_csv('dataset1.csv')\n",
        "df2 = pd.read_csv('dataset2.csv')\n",
        "s1 = df1['value'].values\n",
        "s2 = df2['value'].values\n",
        "m1 = np.mean(s1)\n",
        "m2 = np.mean(s2)\n",
        "t_static,p_value = stats.ttest_ind(s1,s2)"
      ],
      "metadata": {
        "id": "NBQbXUYbQsgE"
      },
      "execution_count": 3,
      "outputs": []
    },
    {
      "cell_type": "code",
      "source": [
        "print(\"Sample 1 mean = \",m1)\n",
        "print(\"Sample 2 mean = \",m2)\n",
        "print(\"calculated t value = \",t_static)\n",
        "print(\"p value = \",p_value)"
      ],
      "metadata": {
        "id": "8oh5j7jtS221"
      },
      "execution_count": null,
      "outputs": []
    }
  ]
}